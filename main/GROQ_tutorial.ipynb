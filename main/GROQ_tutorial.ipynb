{
  "cells": [
    {
      "cell_type": "markdown",
      "metadata": {
        "id": "-kUHOtUzZSdu"
      },
      "source": [
        "## Will use Groq and together.ai for running LLM inference.\n",
        "\n",
        "### Setting Up Groq\n",
        "1. Go to https://groq.com/.\n",
        "2. Sign In using your favourite Email Id.\n",
        "3. Click on GroqCloud.\n",
        "4. Create an API Key with name \"Tutorial\".\n",
        "5. Copy the API Key and same it in GROQ_API_KEY variable.\n",
        "6. Install groq package with pip.\n",
        "7. Test it on a sample input.\n",
        "\n",
        "Additional documentation can be found at https://console.groq.com/docs/quickstart."
      ]
    },
    {
      "cell_type": "code",
      "execution_count": null,
      "metadata": {
        "id": "D0P-hgmThD9R"
      },
      "outputs": [],
      "source": [
        "!pip install pandas\n",
        "!pip install scikit-learn\n",
        "!pip install tqdm\n",
        "!pip install datasets"
      ]
    },
    {
      "cell_type": "code",
      "execution_count": null,
      "metadata": {
        "id": "hYjnXwuOa-Q0"
      },
      "outputs": [],
      "source": [
        "GROQ_API_KEY = 'ADD YOUR API KEY HERE'\n",
        "!pip install groq"
      ]
    },
    {
      "cell_type": "code",
      "execution_count": null,
      "metadata": {
        "id": "JVRLIJo8b2MU"
      },
      "outputs": [],
      "source": [
        "from groq import Groq\n",
        "client = Groq(api_key=GROQ_API_KEY)\n",
        "\n",
        "def run_groq_model(messages, model, temperature=0.7, top_p=1, max_tokens=16):\n",
        "    chat_completion = client.chat.completions.create(\n",
        "        messages=messages, temperature=temperature, top_p=top_p,\n",
        "        model=model, n=1, max_tokens=max_tokens\n",
        "    )\n",
        "    return chat_completion.choices[0].message.content"
      ]
    },
    {
      "cell_type": "code",
      "execution_count": null,
      "metadata": {
        "id": "z2ALNhD8b2Vo"
      },
      "outputs": [],
      "source": [
        "ret = run_groq_model([{\"role\": \"user\", \"content\": \"Introduce yourself.\"}], \"llama3-8b-8192\", max_tokens=100)\n",
        "print(ret)"
      ]
    },
    {
      "cell_type": "code",
      "execution_count": null,
      "metadata": {
        "id": "MPAgz1lob2Yq"
      },
      "outputs": [],
      "source": [
        "ret = run_groq_model([{\"role\": \"user\", \"content\": \"Introduce yourself.\"}], \"llama3-8b-8192\", max_tokens=100)\n",
        "print(ret)"
      ]
    },
    {
      "cell_type": "code",
      "execution_count": null,
      "metadata": {
        "id": "AoCuQyncb2bj"
      },
      "outputs": [],
      "source": [
        "ret = run_groq_model([{\"role\": \"user\", \"content\": \"Introduce yourself.\"}], \"llama3-8b-8192\", max_tokens=100)\n",
        "print(ret)"
      ]
    },
    {
      "cell_type": "code",
      "execution_count": null,
      "metadata": {
        "id": "a69ABTbMb2eq"
      },
      "outputs": [],
      "source": [
        "# Try another model\n",
        "ret = run_groq_model([{\"role\": \"user\", \"content\": \"Introduce yourself.\"}], \"mixtral-8x7b-32768\", max_tokens=100)\n",
        "print(ret)"
      ]
    },
    {
      "cell_type": "markdown",
      "metadata": {
        "id": "930cLdQJiKsf"
      },
      "source": [
        "### Play with generation parameters"
      ]
    },
    {
      "cell_type": "code",
      "execution_count": null,
      "metadata": {
        "id": "asj8WT_qiHQJ"
      },
      "outputs": [],
      "source": [
        "# Deterministic response\n",
        "ret = run_groq_model([{\"role\": \"user\", \"content\": \"Describe the planet Jupiter in few words.\"}], \"mixtral-8x7b-32768\", max_tokens=100, temperature=0.0)\n",
        "print(ret)"
      ]
    },
    {
      "cell_type": "code",
      "execution_count": null,
      "metadata": {
        "id": "N88fPIYIip3g"
      },
      "outputs": [],
      "source": [
        "ret = run_groq_model([{\"role\": \"user\", \"content\": \"Describe the planet Jupiter in few words.\"}], \"mixtral-8x7b-32768\", max_tokens=100, temperature=0.0)\n",
        "print(ret)"
      ]
    },
    {
      "cell_type": "code",
      "execution_count": null,
      "metadata": {
        "id": "qDBkkIY6ixZn"
      },
      "outputs": [],
      "source": [
        "ret = run_groq_model([{\"role\": \"user\", \"content\": \"Describe the planet Jupiter in few words.\"}], \"mixtral-8x7b-32768\", max_tokens=100, temperature=0.9)\n",
        "print(ret)"
      ]
    },
    {
      "cell_type": "code",
      "execution_count": null,
      "metadata": {
        "id": "-ArJgcbLMLr1"
      },
      "outputs": [],
      "source": []
    }
  ],
  "metadata": {
    "colab": {
      "provenance": []
    },
    "kernelspec": {
      "display_name": "Python 3",
      "name": "python3"
    },
    "language_info": {
      "name": "python"
    }
  },
  "nbformat": 4,
  "nbformat_minor": 0
}
